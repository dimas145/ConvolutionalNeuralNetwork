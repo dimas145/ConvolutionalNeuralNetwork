{
 "cells": [
  {
   "cell_type": "code",
   "execution_count": 1,
   "id": "147a3a90-d7c1-438b-9431-ba7dc9b755c0",
   "metadata": {},
   "outputs": [],
   "source": [
    "import cnn\n",
    "from cnn import layers\n",
    "from cnn import activations\n",
    "import numpy as np\n",
    "import matplotlib.pyplot as plt"
   ]
  },
  {
   "cell_type": "code",
   "execution_count": 2,
   "id": "344600b3-75d9-4fea-a5e0-f283b1dfff58",
   "metadata": {},
   "outputs": [],
   "source": [
    "from keras.datasets import mnist"
   ]
  },
  {
   "cell_type": "code",
   "execution_count": 3,
   "id": "af154524-2fe4-4184-b62b-778da184d475",
   "metadata": {},
   "outputs": [
    {
     "data": {
      "image/png": "[encoded data removed]",
      "text/plain": [
       "<Figure size 432x288 with 2 Axes>"
      ]
     },
     "metadata": {
      "needs_background": "light"
     },
     "output_type": "display_data"
    }
   ],
   "source": [
    "(X_train, y_train), (X_test, y_test) = mnist.load_data()\n",
    "X_train = np.array(X_train)\n",
    "X_train = np.pad(X_train, ((0, 0), (2, 2), (2, 2)), 'constant').tolist()\n",
    "\n",
    "for i in range(2):\n",
    "    plt.subplot(3, 3, i + 1)\n",
    "    plt.imshow(X_train[i], cmap='gray')\n",
    "    plt.axis('off')\n",
    "\n",
    "for i in range(len(X_train)):\n",
    "    for j in range(len(X_train[i])):\n",
    "        for k in range(len(X_train[i][j])):\n",
    "            X_train[i][j][k] /= 255\n",
    "\n",
    "X_train = list(map(lambda x: [x], X_train))\n"
   ]
  },
  {
   "cell_type": "code",
   "execution_count": 4,
   "id": "0ead47f5-ebd2-4066-a3cc-9191d78351f3",
   "metadata": {},
   "outputs": [
    {
     "name": "stdout",
     "output_type": "stream",
     "text": [
      "\n",
      "Model: Sequential\n",
      "================================================================================\n",
      "Layer (type)                       Output Shape                       Param #       \n",
      "================================================================================\n",
      "conv2d_1 (Conv2D)                  (None, 28, 28, 6)                  156              \n",
      "--------------------------------------------------------------------------------\n",
      "pooling_1 (Pooling)                (None, 14, 14, 6)                  0                \n",
      "--------------------------------------------------------------------------------\n",
      "flatten_1 (Flatten)                (None, 1176)                       0                \n",
      "--------------------------------------------------------------------------------\n",
      "dense_1 (Dense)                    (None, 120)                        141240           \n",
      "--------------------------------------------------------------------------------\n",
      "dense_2 (Dense)                    (None, 84)                         10164            \n",
      "--------------------------------------------------------------------------------\n",
      "dense_3 (Dense)                    (None, 10)                         850              \n",
      "================================================================================\n",
      "Total params: 152,410\n",
      "\n",
      "Epoch 1/3\n",
      "[20/20] [========================================]   accuracy: 0.1  loss: 2.29700955453424157978584775825\n",
      "Epoch 2/3\n",
      "[20/20] [========================================]   accuracy: 0.1  loss: 2.312102591419622506326035574223\n",
      "Epoch 3/3\n",
      "[20/20] [========================================]   accuracy: 0.15  loss: 2.31870341568918371220443744326\n"
     ]
    }
   ],
   "source": [
    "lenet5 = cnn.Sequential()\n",
    "\n",
    "lenet5.add(layers.Conv2D(6, (5, 5), activation=activations.ReLU,input_shape=(32, 32, 1)))\n",
    "lenet5.add(layers.Pooling(pool_mode=\"max\"))\n",
    "lenet5.add(layers.Flatten())\n",
    "lenet5.add(layers.Dense(120, activation=activations.ReLU))\n",
    "lenet5.add(layers.Dense(84, activation=activations.ReLU))\n",
    "lenet5.add(layers.Dense(10, activation=activations.Softmax))\n",
    "\n",
    "lenet5.summary()\n",
    "\n",
    "lenet5.fit(X_train[:20], y_train[:20], epochs=3)"
   ]
  },
  {
   "cell_type": "code",
   "execution_count": 5,
   "id": "c6146e70-33cd-4787-a6f2-78ee14af88fc",
   "metadata": {},
   "outputs": [
    {
     "name": "stdout",
     "output_type": "stream",
     "text": [
      "Model saved successfully!\n"
     ]
    }
   ],
   "source": [
    "lenet5.save_model(\"saved.p\")"
   ]
  },
  {
   "cell_type": "code",
   "execution_count": 6,
   "id": "a18711cb-6301-44a3-9ad7-1cf982b3fa97",
   "metadata": {},
   "outputs": [
    {
     "name": "stdout",
     "output_type": "stream",
     "text": [
      "Model loaded successfully!\n",
      "\n",
      "Model: Sequential\n",
      "================================================================================\n",
      "Layer (type)                       Output Shape                       Param #       \n",
      "================================================================================\n",
      "conv2d_1 (Conv2D)                  (None, 28, 28, 6)                  156              \n",
      "--------------------------------------------------------------------------------\n",
      "pooling_1 (Pooling)                (None, 14, 14, 6)                  0                \n",
      "--------------------------------------------------------------------------------\n",
      "flatten_1 (Flatten)                (None, 1176)                       0                \n",
      "--------------------------------------------------------------------------------\n",
      "dense_1 (Dense)                    (None, 120)                        141240           \n",
      "--------------------------------------------------------------------------------\n",
      "dense_2 (Dense)                    (None, 84)                         10164            \n",
      "--------------------------------------------------------------------------------\n",
      "dense_3 (Dense)                    (None, 10)                         850              \n",
      "================================================================================\n",
      "Total params: 152,410\n",
      "\n"
     ]
    }
   ],
   "source": [
    "load = cnn.Sequential()\n",
    "new = load.load_model(\"saved.p\")\n",
    "\n",
    "new.summary()\n"
   ]
  },
  {
   "cell_type": "code",
   "execution_count": 7,
   "id": "8057c036-516f-4469-991c-a6ae1ed4e0d6",
   "metadata": {},
   "outputs": [],
   "source": [
    "import pandas as pd"
   ]
  },
  {
   "cell_type": "code",
   "execution_count": 8,
   "id": "86f37166-b5d6-4d1b-bf3f-996ac502f8ef",
   "metadata": {},
   "outputs": [
    {
     "name": "stdout",
     "output_type": "stream",
     "text": [
      "Requirement already satisfied: idx2numpy in c:\\users\\legion\\anaconda3\\envs\\tensorflow\\lib\\site-packages (1.2.3)\n",
      "Requirement already satisfied: six in c:\\users\\legion\\appdata\\roaming\\python\\python39\\site-packages (from idx2numpy) (1.15.0)\n",
      "Requirement already satisfied: numpy in c:\\users\\legion\\anaconda3\\envs\\tensorflow\\lib\\site-packages (from idx2numpy) (1.19.5)\n"
     ]
    }
   ],
   "source": [
    "!pip install idx2numpy"
   ]
  },
  {
   "cell_type": "code",
   "execution_count": 9,
   "id": "7f58bfc7-49b7-4e99-9d24-e7064f63317a",
   "metadata": {},
   "outputs": [],
   "source": [
    "import idx2numpy"
   ]
  },
  {
   "cell_type": "code",
   "execution_count": 10,
   "id": "cf1317e6-8dd5-4409-850b-92dcccd36c0a",
   "metadata": {},
   "outputs": [],
   "source": [
    "arr = idx2numpy.convert_from_file(\"t10k-images.idx3-ubyte\")"
   ]
  },
  {
   "cell_type": "code",
   "execution_count": 11,
   "id": "6ac95657-811f-4a23-bf93-88721be6cb7d",
   "metadata": {},
   "outputs": [
    {
     "name": "stdout",
     "output_type": "stream",
     "text": [
      "(10000, 28, 28)\n"
     ]
    }
   ],
   "source": [
    "print(arr.shape)"
   ]
  },
  {
   "cell_type": "code",
   "execution_count": null,
   "id": "b188dac8-0afa-4a99-8e77-edd818e47148",
   "metadata": {},
   "outputs": [],
   "source": [
    "X = np.pad(arr, ((0, 0), (2, 2), (2, 2)), 'constant').tolist()\n",
    "\n",
    "for i in range(len(X)):\n",
    "    for j in range(len(X[i])):\n",
    "        for k in range(len(X[i][j])):\n",
    "            X[i][j][k] /= 255\n",
    "\n",
    "X_train = list(map(lambda x: [x], X_train))"
   ]
  }
 ],
 "metadata": {
  "kernelspec": {
   "display_name": "Python 3 (ipykernel)",
   "language": "python",
   "name": "python3"
  },
  "language_info": {
   "codemirror_mode": {
    "name": "ipython",
    "version": 3
   },
   "file_extension": ".py",
   "mimetype": "text/x-python",
   "name": "python",
   "nbconvert_exporter": "python",
   "pygments_lexer": "ipython3",
   "version": "3.9.7"
  }
 },
 "nbformat": 4,
 "nbformat_minor": 5
}
